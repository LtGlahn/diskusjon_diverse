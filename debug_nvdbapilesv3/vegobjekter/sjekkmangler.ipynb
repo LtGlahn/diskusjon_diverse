{
 "cells": [
  {
   "cell_type": "markdown",
   "metadata": {},
   "source": [
    "# Mangelfulle spørringer mot NVDB api V3? \n",
    "\n",
    "her sammenligner vi resultatet av spørringen `/vegobjekter/904?kommune=5001&veg(system)referanse=K` mot NVDB api V2 og V3."
   ]
  },
  {
   "cell_type": "code",
   "execution_count": 1,
   "metadata": {},
   "outputs": [],
   "source": [
    "import json\n",
    "import pandas as pd\n",
    "import os"
   ]
  },
  {
   "cell_type": "code",
   "execution_count": 2,
   "metadata": {},
   "outputs": [],
   "source": [
    "mappe = 'stavanger_904'\n",
    "filer = os.listdir(mappe)"
   ]
  },
  {
   "cell_type": "code",
   "execution_count": 3,
   "metadata": {},
   "outputs": [],
   "source": [
    "manglergeom = []\n",
    "fasit = []        \n",
    "\n",
    "etterspurt_E = []\n",
    "etterspurt_R = []\n",
    "etterspurt_F = []\n",
    "etterspurt_K = []\n",
    "etterspurt_P = []\n",
    "etterspurt_S = []\n",
    "\n",
    "\n",
    "for eifil in filer: \n",
    "    if 'json' in eifil: \n",
    "        spurt_vegkat = eifil.split( '.')[0].split( '_')[-1]\n",
    "        with open( os.path.join( mappe, eifil), encoding='utf-8') as f:\n",
    "            data = json.load( f)\n",
    "        for rad in data: \n",
    "            rad['spurt_vegkat'] = spurt_vegkat\n",
    "        \n",
    "        if 'mengdeuttak_v2' in eifil:\n",
    "            fasit.extend( data)\n",
    "        elif 'mangler_geometriv3' in eifil: \n",
    "            manglergeom.extend( data )            \n",
    "            \n",
    "\n",
    "manglergeom = pd.DataFrame( manglergeom )\n",
    "fasit = pd.DataFrame( fasit )"
   ]
  },
  {
   "cell_type": "markdown",
   "metadata": {},
   "source": [
    "# Har vi duplikater i de ugyldige V3-objektene? "
   ]
  },
  {
   "cell_type": "code",
   "execution_count": 4,
   "metadata": {},
   "outputs": [],
   "source": [
    "duplikat = manglergeom[ manglergeom.duplicated(subset='id', keep=False) ]"
   ]
  },
  {
   "cell_type": "code",
   "execution_count": 5,
   "metadata": {},
   "outputs": [
    {
     "name": "stdout",
     "output_type": "stream",
     "text": [
      "4 duplikater av 155 ugyldige og 5648 totalt\n"
     ]
    }
   ],
   "source": [
    "print( len( duplikat), 'duplikater av', len( manglergeom), 'ugyldige og', len(fasit), 'totalt')"
   ]
  },
  {
   "cell_type": "markdown",
   "metadata": {},
   "source": [
    "Relativt uinteressant, iallfall inntil  videre"
   ]
  },
  {
   "cell_type": "markdown",
   "metadata": {},
   "source": [
    "# Lær mer om ugyldige data"
   ]
  },
  {
   "cell_type": "markdown",
   "metadata": {},
   "source": [
    "### Stemmer ønsket vegkategori med det vi fant? "
   ]
  },
  {
   "cell_type": "code",
   "execution_count": 6,
   "metadata": {},
   "outputs": [],
   "source": [
    "mangler = pd.merge( left=manglergeom, right=fasit, left_on='id', right_on='vegobjektid', how='inner')"
   ]
  },
  {
   "cell_type": "code",
   "execution_count": 8,
   "metadata": {},
   "outputs": [
    {
     "data": {
      "text/plain": [
       "Index(['id', 'href_x', 'metadata', 'egenskaper', 'lokasjon', 'vegsegmenter',\n",
       "       'relasjoner', 'spurt_vegkat_x', 'apiversjon', 'vegobjektid', 'href_y',\n",
       "       'versjon', 'startdato', 'geometri', 'geometritype', 'wkt_punkt',\n",
       "       'kommuner', 'vegkat', 'vref', 'stedfesting_antall',\n",
       "       'stedfesting_utbredelse', 'stedfesting_unikeid', 'spurt_vegkat_y'],\n",
       "      dtype='object')"
      ]
     },
     "execution_count": 8,
     "metadata": {},
     "output_type": "execute_result"
    }
   ],
   "source": [
    "mangler.columns"
   ]
  },
  {
   "cell_type": "code",
   "execution_count": 11,
   "metadata": {},
   "outputs": [
    {
     "data": {
      "text/html": [
       "<div>\n",
       "<style scoped>\n",
       "    .dataframe tbody tr th:only-of-type {\n",
       "        vertical-align: middle;\n",
       "    }\n",
       "\n",
       "    .dataframe tbody tr th {\n",
       "        vertical-align: top;\n",
       "    }\n",
       "\n",
       "    .dataframe thead th {\n",
       "        text-align: right;\n",
       "    }\n",
       "</style>\n",
       "<table border=\"1\" class=\"dataframe\">\n",
       "  <thead>\n",
       "    <tr style=\"text-align: right;\">\n",
       "      <th></th>\n",
       "      <th>id</th>\n",
       "      <th>href_x</th>\n",
       "      <th>metadata</th>\n",
       "      <th>egenskaper</th>\n",
       "      <th>lokasjon</th>\n",
       "      <th>vegsegmenter</th>\n",
       "      <th>relasjoner</th>\n",
       "      <th>spurt_vegkat_x</th>\n",
       "      <th>apiversjon</th>\n",
       "      <th>vegobjektid</th>\n",
       "      <th>...</th>\n",
       "      <th>geometri</th>\n",
       "      <th>geometritype</th>\n",
       "      <th>wkt_punkt</th>\n",
       "      <th>kommuner</th>\n",
       "      <th>vegkat</th>\n",
       "      <th>vref</th>\n",
       "      <th>stedfesting_antall</th>\n",
       "      <th>stedfesting_utbredelse</th>\n",
       "      <th>stedfesting_unikeid</th>\n",
       "      <th>spurt_vegkat_y</th>\n",
       "    </tr>\n",
       "  </thead>\n",
       "  <tbody>\n",
       "  </tbody>\n",
       "</table>\n",
       "<p>0 rows × 23 columns</p>\n",
       "</div>"
      ],
      "text/plain": [
       "Empty DataFrame\n",
       "Columns: [id, href_x, metadata, egenskaper, lokasjon, vegsegmenter, relasjoner, spurt_vegkat_x, apiversjon, vegobjektid, href_y, versjon, startdato, geometri, geometritype, wkt_punkt, kommuner, vegkat, vref, stedfesting_antall, stedfesting_utbredelse, stedfesting_unikeid, spurt_vegkat_y]\n",
       "Index: []\n",
       "\n",
       "[0 rows x 23 columns]"
      ]
     },
     "execution_count": 11,
     "metadata": {},
     "output_type": "execute_result"
    }
   ],
   "source": [
    "mangler[ mangler['spurt_vegkat_x'] == mangler['vegkat']]"
   ]
  },
  {
   "cell_type": "markdown",
   "metadata": {},
   "source": [
    "### Er det en vegkategori som peker seg ut?"
   ]
  },
  {
   "cell_type": "code",
   "execution_count": 7,
   "metadata": {},
   "outputs": [
    {
     "data": {
      "text/plain": [
       "P    107\n",
       "K     41\n",
       "F      4\n",
       "E      2\n",
       "S      1\n",
       "Name: vegkat, dtype: int64"
      ]
     },
     "execution_count": 7,
     "metadata": {},
     "output_type": "execute_result"
    }
   ],
   "source": [
    "mangler.vegkat.value_counts()"
   ]
  },
  {
   "cell_type": "markdown",
   "metadata": {},
   "source": [
    "Sjekker ut den skogsbilvegen og de to europaveg-objektene "
   ]
  }
 ],
 "metadata": {
  "hide_input": false,
  "kernelspec": {
   "display_name": "Python 3",
   "language": "python",
   "name": "python3"
  },
  "language_info": {
   "codemirror_mode": {
    "name": "ipython",
    "version": 3
   },
   "file_extension": ".py",
   "mimetype": "text/x-python",
   "name": "python",
   "nbconvert_exporter": "python",
   "pygments_lexer": "ipython3",
   "version": "3.8.0"
  },
  "toc": {
   "base_numbering": 1,
   "nav_menu": {},
   "number_sections": true,
   "sideBar": true,
   "skip_h1_title": false,
   "title_cell": "Table of Contents",
   "title_sidebar": "Contents",
   "toc_cell": false,
   "toc_position": {},
   "toc_section_display": true,
   "toc_window_display": false
  },
  "varInspector": {
   "cols": {
    "lenName": 16,
    "lenType": 16,
    "lenVar": 40
   },
   "kernels_config": {
    "python": {
     "delete_cmd_postfix": "",
     "delete_cmd_prefix": "del ",
     "library": "var_list.py",
     "varRefreshCmd": "print(var_dic_list())"
    },
    "r": {
     "delete_cmd_postfix": ") ",
     "delete_cmd_prefix": "rm(",
     "library": "var_list.r",
     "varRefreshCmd": "cat(var_dic_list()) "
    }
   },
   "types_to_exclude": [
    "module",
    "function",
    "builtin_function_or_method",
    "instance",
    "_Feature"
   ],
   "window_display": false
  }
 },
 "nbformat": 4,
 "nbformat_minor": 2
}
