{
 "cells": [
  {
   "cell_type": "code",
   "execution_count": 73,
   "id": "71fc9d64",
   "metadata": {},
   "outputs": [],
   "source": [
    "%matplotlib inline\n",
    "import numpy as np\n",
    "from matplotlib import pyplot as plt\n",
    "from ipywidgets import interactive, fixed\n",
    "plt.rcParams['figure.figsize'] = [10, 9]\n"
   ]
  },
  {
   "cell_type": "code",
   "execution_count": 35,
   "id": "3d434857",
   "metadata": {},
   "outputs": [],
   "source": [
    "def circleRadius(b, c, d):\n",
    "    \"\"\"\n",
    "    Regner ut radius basert på tre punkt \n",
    "    https://stackoverflow.com/questions/52990094/calculate-circle-given-3-points-code-explanation\n",
    "    \"\"\"\n",
    "    temp = c[0]**2 + c[1]**2\n",
    "    bc = (b[0]**2 + b[1]**2 - temp) / 2\n",
    "    cd = (temp - d[0]**2 - d[1]**2) / 2\n",
    "    det = (b[0] - c[0]) * (c[1] - d[1]) - (c[0] - d[0]) * (b[1] - c[1])\n",
    "\n",
    "    if abs(det) < 1.0e-10:\n",
    "        return None\n",
    "\n",
    "    # Center of circle\n",
    "    cx = (bc*(c[1] - d[1]) - cd*(b[1] - c[1])) / det\n",
    "    cy = ((b[0] - c[0]) * cd - (c[0] - d[0]) * bc) / det\n",
    "\n",
    "    radius = ((cx - b[0])**2 + (cy - b[1])**2)**.5\n",
    "\n",
    "    return radius"
   ]
  },
  {
   "cell_type": "markdown",
   "id": "1a4aad08",
   "metadata": {},
   "source": [
    "# Første forsøk: Fra ytre til indre sving\n",
    "\n",
    "Her blir det en diskontiuitet: Fra å kjøre rett frem (langs ytre vegkant) så er man plutselig i en sving som starter der vegkanten begynner å krumme. En perfekt svinglinje starter et lite stykke _*før*_ svingen, der sirkelbuen tangerer vegkanten.  "
   ]
  },
  {
   "cell_type": "code",
   "execution_count": 140,
   "id": "39a856de",
   "metadata": {},
   "outputs": [],
   "source": [
    "def sirkler( IndreKrumningsRadius = 60, Vegbredde = 3, theta=45, Bilbredde = 2  ):\n",
    "    Ri = IndreKrumningsRadius\n",
    "        \n",
    "    n_samples = 500\n",
    "#     angle = np.linspace( -theta * np.pi / 360, theta * np.pi / 360, n_samples )\n",
    "    angle = np.linspace( 0, theta * np.pi / 360, n_samples )\n",
    "    \n",
    "    # Regner ut sirkelbue høyre og venstre vegkant (alternativt ene vegkant + senterlinje)\n",
    "    x1 = Ri * np.cos( angle )\n",
    "    y1 = Ri * np.sin( angle )\n",
    "    x2 = (Ri + Vegbredde) * np.cos( angle )\n",
    "    y2 = (Ri + Vegbredde) * np.sin( angle )\n",
    "     \n",
    "    # Plotter sirkelbue vegkanter\n",
    "    fix, ax = plt.subplots( 1 )\n",
    "    ax.plot( x1, y1, '-', color='dimgrey', linewidth=3)\n",
    "    ax.plot( x2, y2, '-', color='dimgrey', linewidth=3)\n",
    "\n",
    "    # Regner ut berøringspunkt ytre vegkant - indre vegkant - ytre vegkant, minus bilbredde\n",
    "    bb = Bilbredde / 2 \n",
    "    p1 = [ (Ri+Vegbredde-bb) * np.cos( theta * np.pi / 360), (Ri+Vegbredde-bb) * np.sin( theta * np.pi / 360) ]\n",
    "    p2 = [ Ri+bb, 0 ]\n",
    "    p3 = [ (Ri+Vegbredde-bb) * np.cos( theta * np.pi / 360), -(Ri+Vegbredde-bb) * np.sin( theta * np.pi / 360) ]\n",
    "    \n",
    "    # Sirkelradius \n",
    "    storR = circleRadius( p1, p2, p3)\n",
    "    \n",
    "    # Beregner åpningsvinkel\n",
    "    theta2 = np.arcsin( p1[1] / storR )\n",
    "    \n",
    "    # Nullpunkt for den store sirkelen på X-aksen\n",
    "    forskyving = Ri + bb - storR \n",
    "    \n",
    "#     angle2 = np.linspace( -theta2, theta2, n_samples  )\n",
    "    angle2 = np.linspace( 0, theta2, n_samples  )\n",
    "    \n",
    "    x3 = storR * np.cos( angle2 ) + forskyving \n",
    "    y3 = storR * np.sin( angle2 ) \n",
    "    \n",
    "    if p2[0] > p1[0]: \n",
    "        ax.plot( x3, y3, '-r', linewidth=1)\n",
    "        perfektLengde = storR * 2 * theta2 \n",
    "    else: \n",
    "        ax.plot( [ p1[0], p3[0] ], [p1[1], p3[1] ], '-r', linewidth=1 )\n",
    "        storR = 'uendelig (rak linje)'\n",
    "        perfektLengde = 2 * p1[1]\n",
    "    \n",
    "    ax.plot( p1[0], p1[1], 'om')\n",
    "    ax.plot( p2[0], p2[1], 'om')\n",
    "#     ax.plot( p3[0], p3[1], 'om')\n",
    "    \n",
    "    print( 'Krumningsradius perfekt bane:', storR )\n",
    "    print( 'Lengde perfekt bane:', '\\t',  round( perfektLengde, 2) )\n",
    "    print( 'Lengde indre vegkant:', '\\t', round(Ri * theta * np.pi / 180, 2) )\n",
    "    \n",
    "    # Plotter bil: \n",
    "    xbil = [Ri, Ri+Bilbredde, Ri+Bilbredde, Ri,  Ri ]\n",
    "    ybil = [-2.5, -2.5,       2.5,          2.5, -2.5 ] \n",
    "    xpil = [Ri,              Ri+Bilbredde,    Ri+Bilbredde/2, Ri ]\n",
    "    ypil = [2.5-Bilbredde/2, 2.5-Bilbredde/2, 2.5,            2.5-Bilbredde/2 ]\n",
    "    if Bilbredde > 0:\n",
    "        ax.plot( xbil, ybil, '-', color='tomato')\n",
    "    if Bilbredde > 1:\n",
    "        ax.plot( xpil, ypil, '-', color='tomato')\n",
    "\n",
    "    # Plotter vinkelrett på linja Origo - slutt på sirkelbuen \n",
    "    slope = -1 / ( y1[-1] / x1[-1] )\n",
    "    # Kjenner et punkt (x1, y1) på linja og kan bruke formelen y = slope * (x - x1) + y1 \n",
    "    Xrak = [ x1[-1], 0.9*x1[-1] ]\n",
    "    Yrak = slope * ( Xrak - x1[-1] ) + y1[-1] \n",
    "    ax.plot( Xrak, Yrak, '-', color = 'y', linewidth = 3)\n",
    "    \n",
    "    Xrak2 = [ x2[-1], 0.9*x2[-1]]\n",
    "    Yrak2 = slope * ( Xrak2 - x2[-1]) + y2[-1]\n",
    "    ax.plot( Xrak2, Yrak2, '-', color='y', linewidth = 3)\n",
    "    \n",
    "    ## Beregner enhetsvektor parallent med høyre vegkant rettlinje\n",
    "    # Lengden ... \n",
    "    rak_L = np.sqrt( np.square(Xrak2[1]-Xrak2[0]) + np.square(Yrak2[1]-Yrak2[0])  )\n",
    "    # Vektor p1->p2 = vektor p1->Origo + vektor fra Origo->p2 = -1*Op1 + Op2\n",
    "    # = <x2-x1, y2-y1>\n",
    "    # Og skalerer slik at vi har enhetsvektor\n",
    "    vegkantVektor = np.array( [ (Xrak2[1]-Xrak2[0])/rak_L, (Yrak2[1]-Yrak2[0])/rak_L ] )\n",
    "\n",
    "    # Enhetsvektor for y-aksen \n",
    "    yAkseVektor = np.array( [0, -1 ] )\n",
    "    \n",
    "    # Plott disse vektorene\n",
    "    plottepunkt = Ri-5\n",
    "    ax.arrow( plottepunkt, 0, yAkseVektor[0], yAkseVektor[1]   )\n",
    "    ax.arrow( plottepunkt, 0, vegkantVektor[0], vegkantVektor[1]   )\n",
    "    \n",
    "    # dot_product = np.dot( yAkseVektor, vegkantVektor)\n",
    "    # vinkel = np.arccos( dot_product)\n",
    "    vinkel = np.arccos( np.dot( yAkseVektor, vegkantVektor) )\n",
    "    print( \"Vinkel:\", np.degrees( vinkel ))\n",
    "    \n",
    "    # Finne krysningspunkt mellom rett høyre vegkant og tangent ved Apex (Ri, 0)\n",
    "    # https://stackoverflow.com/questions/3252194/numpy-and-line-intersections\n",
    "    \n",
    "    \n",
    "    ax.set_aspect( 1) \n",
    "    plt.show()\n",
    "    "
   ]
  },
  {
   "cell_type": "code",
   "execution_count": 144,
   "id": "00467b57",
   "metadata": {},
   "outputs": [
    {
     "data": {
      "application/vnd.jupyter.widget-view+json": {
       "model_id": "0e6a5acc9604401981e0df98f1d1c78d",
       "version_major": 2,
       "version_minor": 0
      },
      "text/plain": [
       "interactive(children=(IntSlider(value=60, description='IndreKrumningsRadius', max=180, min=-60), IntSlider(val…"
      ]
     },
     "metadata": {},
     "output_type": "display_data"
    }
   ],
   "source": [
    "interactive( sirkler, IndreKrumningsradius=(20, 200), Vegbredde=(1,9), theta=(5, 90), Bilbredde=(0,2))"
   ]
  },
  {
   "cell_type": "markdown",
   "id": "dfee1351",
   "metadata": {},
   "source": [
    "Men dette er ingen god løsning på problemet vårt - det er en diskontinuitet (uendelig krapp) overgang fra å kjøre rett fram til den pene røde svingebuen. \n",
    "\n",
    "Det problemet vi _*egentlig*_ skal løse kan foruleres slik: Finne sirkel med tre tangenter, definert ved \n",
    "  * høyre vegkant før svingen\n",
    "  * linja `x = IndreKrumningsRadius` \n",
    "  * høyre kant etter svingen\n",
    "    \n",
    "https://math.stackexchange.com/questions/656497/find-a-circles-radius-with-three-known-tangent-lines\n",
    "\n",
    "Ett steg på veien: Plott den rette vegen, dvs tangenten til de to vegkant-i-svingen sirklene våre fra start/slutt på svingen og rett fram vekk fra svingen: https://www.mathworks.com/matlabcentral/answers/258780-how-to-plot-tangent-line-from-specified-point-to-a-circle\n",
    "\n",
    "Å finne sirkelens sentrum kan gjøres ved å trekke linja definert ved halve vinkelåpningen mellom parvise tangentlinjer. Den ene slike linja har vi, det er halve åpningsvinkelen mellom høyre vegkant før og etter svingen, og er rett og slett X-aksen (`y = 0 `). Så vi må finne linja for halve åpningsvinkelen mellom linja `y = IndreKrumningsRadius` og den ene høyre-vegkant-rettlinja. Skjæringspunktet med X-aksen er senter for sirkelen.   "
   ]
  },
  {
   "cell_type": "code",
   "execution_count": 173,
   "id": "59b2d7ad",
   "metadata": {},
   "outputs": [],
   "source": [
    "def get_intersect(a1, a2, b1, b2):\n",
    "    \"\"\" \n",
    "    Returns the point of intersection of the lines passing through a2,a1 and b2,b1.\n",
    "    a1: [x, y] a point on the first line\n",
    "    a2: [x, y] another point on the first line\n",
    "    b1: [x, y] a point on the second line\n",
    "    b2: [x, y] another point on the second line\n",
    "    \n",
    "    https://stackoverflow.com/a/42727584\n",
    "    \"\"\"\n",
    "    s = np.vstack([a1,a2,b1,b2])        # s for stacked\n",
    "    h = np.hstack((s, np.ones((4, 1)))) # h for homogeneous\n",
    "    l1 = np.cross(h[0], h[1])           # get first line\n",
    "    l2 = np.cross(h[2], h[3])           # get second line\n",
    "    x, y, z = np.cross(l1, l2)          # point of intersection\n",
    "    if z == 0:                          # lines are parallel\n",
    "        return (float('inf'), float('inf'))\n",
    "    return (x/z, y/z)"
   ]
  },
  {
   "cell_type": "code",
   "execution_count": 175,
   "id": "266227e4",
   "metadata": {},
   "outputs": [
    {
     "data": {
      "text/plain": [
       "(3.0, 3.0)"
      ]
     },
     "execution_count": 175,
     "metadata": {},
     "output_type": "execute_result"
    }
   ],
   "source": [
    "get_intersect( np.array( [0, 0]), np.array([1,1,]), np.array([6, 0]), np.array([3, 3]))"
   ]
  },
  {
   "cell_type": "code",
   "execution_count": 285,
   "id": "e83d7e85",
   "metadata": {},
   "outputs": [],
   "source": [
    "def sirkle2( IndreKrumningsRadius = 60, Vegbredde = 3, theta=45, Bilbredde = 2  ):\n",
    "    Ri = IndreKrumningsRadius\n",
    "        \n",
    "    n_samples = 500\n",
    "#     angle = np.linspace( -theta * np.pi / 360, theta * np.pi / 360, n_samples )\n",
    "    angle = np.linspace( 0, theta * np.pi / 360, n_samples )\n",
    "    \n",
    "    # Regner ut sirkelbue høyre og venstre vegkant (alternativt ene vegkant + senterlinje)\n",
    "    x1 = Ri * np.cos( angle )\n",
    "    y1 = Ri * np.sin( angle )\n",
    "    x2 = (Ri + Vegbredde) * np.cos( angle )\n",
    "    y2 = (Ri + Vegbredde) * np.sin( angle )\n",
    "     \n",
    "    # Plotter sirkelbue vegkanter\n",
    "    fix, ax = plt.subplots( 1 )\n",
    "    ax.plot( x1, y1, '-', color='dimgrey', linewidth=3)\n",
    "    ax.plot( x2, y2, '-', color='dimgrey', linewidth=3)\n",
    "\n",
    "    \n",
    "#     # Plotter bil: \n",
    "#     xbil = [Ri, Ri+Bilbredde, Ri+Bilbredde, Ri,  Ri ]\n",
    "#     ybil = [-2.5, -2.5,       2.5,          2.5, -2.5 ] \n",
    "#     xpil = [Ri,              Ri+Bilbredde,    Ri+Bilbredde/2, Ri ]\n",
    "#     ypil = [2.5-Bilbredde/2, 2.5-Bilbredde/2, 2.5,            2.5-Bilbredde/2 ]\n",
    "#     if Bilbredde > 0:\n",
    "#         ax.plot( xbil, ybil, '-', color='tomato')\n",
    "#     if Bilbredde > 1:\n",
    "#         ax.plot( xpil, ypil, '-', color='tomato')\n",
    "\n",
    "    # Finner stigningstallet for linja vinkelrett på linja Origo - slutt på sirkelbuen \n",
    "    slope = -1 / ( y1[-1] / x1[-1] )\n",
    "    # Kjenner et punkt (x1, y1) på linja og kan bruke formelen y = slope * (x - x1) + y1 \n",
    "    Xrak = [ x1[-1], 0.9*x1[-1] ]\n",
    "    Yrak = slope * ( Xrak - x1[-1] ) + y1[-1] \n",
    "    ax.plot( Xrak, Yrak, '-', color = 'y', linewidth = 3)\n",
    "    \n",
    "    Xrak2 = [ x2[-1], 0.9*x2[-1]]\n",
    "    Yrak2 = slope * ( Xrak2 - x2[-1]) + y2[-1]\n",
    "    ax.plot( Xrak2, Yrak2, '-', color='r', linewidth = 3)\n",
    "    \n",
    "    ## Beregner enhetsvektor parallent med høyre vegkant rettlinje\n",
    "    # Lengden ... \n",
    "    rak_L = np.sqrt( np.square(Xrak2[1]-Xrak2[0]) + np.square(Yrak2[1]-Yrak2[0])  )\n",
    "    # Vektor p1->p2 = vektor p1->Origo + vektor fra Origo->p2 = -1*Op1 + Op2\n",
    "    # = <x2-x1, y2-y1>\n",
    "    # Og skalerer slik at vi har enhetsvektor\n",
    "    vegkantVektor = np.array( [ (Xrak2[1]-Xrak2[0])/rak_L, (Yrak2[1]-Yrak2[0])/rak_L ] )\n",
    "\n",
    "    # Enhetsvektor for y-aksen \n",
    "    yAkseVektor = np.array( [0, -1 ] )\n",
    "    \n",
    "#     # Plott disse vektorene\n",
    "#     plottepunkt = Ri-5\n",
    "#     ax.arrow( plottepunkt, 0, yAkseVektor[0], yAkseVektor[1]   )\n",
    "#     ax.arrow( plottepunkt, 0, vegkantVektor[0], vegkantVektor[1]   )\n",
    "    \n",
    "    # dot_product = np.dot( yAkseVektor, vegkantVektor)\n",
    "    # vinkel = np.arccos( dot_product)\n",
    "    vinkel = np.arccos( np.dot( yAkseVektor, vegkantVektor) )\n",
    "    print( \"Vinkel:\", np.degrees( vinkel ))\n",
    "    \n",
    "    # Finne krysningspunkt mellom rett høyre vegkant og tangent ved Apex (Ri, 0)\n",
    "    # https://stackoverflow.com/questions/3252194/numpy-and-line-intersections\n",
    "    Ptangentkryss = get_intersect( [Ri,       0 ],       [Ri,       10], \n",
    "                                   [Xrak2[1], Yrak2[1]], [Xrak2[0], Yrak2[0]])\n",
    "    ax.plot( [Ri,  Ptangentkryss[0]], [0, Ptangentkryss[1]], '-r')\n",
    "    print( 'Ptangentkryssing', Ptangentkryss)\n",
    "\n",
    "    # Finn halvvinkel mellom rak veg og X-akse\n",
    "    # Adder vinkelen til den rake vegen \n",
    "    halvVinkel = vinkel / 2 + np.arctan( slope ) + np.pi\n",
    "    \n",
    "    print( \"Halvvinkel\", np.degrees( halvVinkel))\n",
    "    # Et punkt på linja \n",
    "    P1halvVinkel = [ Ptangentkryss[0] + 15 * np.cos( halvVinkel ), Ptangentkryss[1] + 15 * np.sin( halvVinkel )   ]\n",
    "    ax.plot( [ Ptangentkryss[0], P1halvVinkel[0]], [ Ptangentkryss[1], P1halvVinkel[1] ], '--k'   )\n",
    "    \n",
    "    # Finn krysningspunkt mellom X-akse og halvvinkel \n",
    "    sentrum = get_intersect( Ptangentkryss, P1halvVinkel, (0, 0), (10, 0) )\n",
    "#     ax.plot( [ Ptangentkryss[0], sentrum[0]], [ Ptangentkryss[1], sentrum[1]], '--r'  )\n",
    "    \n",
    "    # Sirkelbue for perfekt bane\n",
    "    # Vinkel fra sirkelens midtpunkt til der sirkelen tangerer ytre vegbane \n",
    "    vinkel2 = halvVinkel - np.pi\n",
    "    perfektRadius = (Ri +  abs( sentrum[0]) )\n",
    "    anglePerfect = np.linspace(0, 2 *vinkel2 , n_samples )\n",
    "    xPerfekt = perfektRadius *  np.cos( anglePerfect ) + sentrum[0] \n",
    "    yPerfekt = perfektRadius *  np.sin( anglePerfect ) \n",
    "    ax.plot( xPerfekt, yPerfekt, '-b')\n",
    "    print( 'Radius:', perfektRadius )\n",
    "    ax.plot( xPerfekt[-1], yPerfekt[-1], '-m')\n",
    "    \n",
    "\n",
    "    \n",
    "    ax.set_aspect( 1) \n",
    "    plt.show()"
   ]
  },
  {
   "cell_type": "code",
   "execution_count": 253,
   "id": "f99166e8",
   "metadata": {},
   "outputs": [
    {
     "data": {
      "text/plain": [
       "180.0"
      ]
     },
     "execution_count": 253,
     "metadata": {},
     "output_type": "execute_result"
    }
   ],
   "source": [
    "np.degrees( np.pi)"
   ]
  },
  {
   "cell_type": "code",
   "execution_count": 286,
   "id": "c4c90db7",
   "metadata": {},
   "outputs": [
    {
     "data": {
      "application/vnd.jupyter.widget-view+json": {
       "model_id": "e3fef054d4b647e9b28723f5e39f004c",
       "version_major": 2,
       "version_minor": 0
      },
      "text/plain": [
       "interactive(children=(IntSlider(value=60, description='IndreKrumningsRadius', max=180, min=-60), IntSlider(val…"
      ]
     },
     "metadata": {},
     "output_type": "display_data"
    }
   ],
   "source": [
    "interactive( sirkle2, IndreKrumningsradius=(30, 300), Vegbredde=(1,9), theta=(5, 90), Bilbredde=(0,2))"
   ]
  }
 ],
 "metadata": {
  "kernelspec": {
   "display_name": "Python 3",
   "language": "python",
   "name": "python3"
  },
  "language_info": {
   "codemirror_mode": {
    "name": "ipython",
    "version": 3
   },
   "file_extension": ".py",
   "mimetype": "text/x-python",
   "name": "python",
   "nbconvert_exporter": "python",
   "pygments_lexer": "ipython3",
   "version": "3.8.8"
  }
 },
 "nbformat": 4,
 "nbformat_minor": 5
}
