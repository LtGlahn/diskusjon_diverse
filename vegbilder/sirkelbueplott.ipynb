{
 "cells": [
  {
   "cell_type": "markdown",
   "metadata": {},
   "source": [
    "# Plott sirkelbuer og avstander veg  - antatt posisjon kamera\n",
    "\n",
    "Inpsirert av https://towardsdatascience.com/a-very-simple-demo-of-interactive-controls-on-jupyter-notebook-4429cf46aabd \n",
    "\n",
    "Klippet fra \n",
    "https://github.com/tirthajyoti/Interactive_Machine_Learning/blob/master/Curve_fit_widget_1.ipynb \n",
    "\n",
    "# Problemstilling: Vegbilder og \"10 meter fram\" \n",
    "\n",
    "Vegbildene tas fra en plattform med state-of-the-art navigasjonsplattform, med GNSS, trippteller og whatnot. Av ukjente grunner tar man data fra dette posisjoneringssystemet og ber om vegnettstilknytning 10meter **foran** bilen. Dette gir en del interessante geometriutfordringer som vi her skal utforske. \n",
    "\n",
    "I tillegg er dette en god problemstilling for interactive widgets. \n",
    "\n",
    "Parameter **Svingradius** er den reelle svingradiusen til målebilen. \n",
    "\n",
    "**TilSide** er avstanden fra målebil til midten av vegen, der vegnettet typisk befinner seg. \n",
    "\n",
    "Her viser vi hvordan geometrien blir i en venstresving. Målebilen kjører rakt fram fra venstre mot høyre, men ligger i en \n",
    "\n",
    "![eksempel](sirkelbueplott_fig1.png) \n"
   ]
  },
  {
   "cell_type": "code",
   "execution_count": 1,
   "metadata": {},
   "outputs": [],
   "source": [
    "from ipywidgets import interact, interactive, fixed, interact_manual\n",
    "import ipywidgets as widgets\n",
    "from IPython.display import display\n",
    "\n",
    "import numpy as np\n",
    "import matplotlib.pyplot as plt\n",
    "#%matplotlib inline"
   ]
  },
  {
   "cell_type": "code",
   "execution_count": 2,
   "metadata": {},
   "outputs": [],
   "source": [
    "def finnavstand( Radius ): \n",
    "    h1 = -1*Radius + np.sqrt( 4 * Radius**2 + 400   ) / 2 \n",
    "    h2 = -1*Radius - np.sqrt( 4 * Radius**2 + 400   ) / 2 \n",
    "    h = max( [h1, h2])\n",
    "    return h\n",
    "\n",
    "def sirkelbue(Svingradius, TilSide ): \n",
    "    # Plotter et utsnitt av sirkelbue\n",
    "    Gulstripeavstand = TilSide\n",
    "    Offset = Gulstripeavstand\n",
    "    Radius = Svingradius\n",
    "    \n",
    "    debug = False \n",
    "    \n",
    "    # finner theta, vinkelbue for utkjørt distanse som tilsvarer vektor [0,10], men langs sirkelbuen\n",
    "    theta0 = np.arctan( [ 10 / Radius ] )[0]  \n",
    "    th0 = theta0 # + 1 * np.pi / 2 # Legger på for å plotte på annet sted langs sirkelbuen\n",
    "    \n",
    "    # Regner ut differansen \n",
    "    h = finnavstand( Radius )\n",
    "    print(  'Avstand påstått kameraposisjon - bilens reelle posisjon=', str(round( h, 2)) + 'm') \n",
    "\n",
    "    \n",
    "    theta = np.linspace( 3 * np.pi / 2, th0 + 3*  np.pi/2, 100) \n",
    "    x = Radius * np.cos( theta )\n",
    "    y = Radius * np.sin( theta ) + Radius \n",
    "\n",
    "    plt.figure(figsize=(8,5))\n",
    "    \n",
    "\n",
    "\n",
    "    # Sirkelbue nr 2, som representerer senterlinje\n",
    "    R2 = Radius - Gulstripeavstand\n",
    "    x2 = R2 * np.cos( theta )\n",
    "    y2 = R2 * np.sin( theta ) + Radius \n",
    "    plt.plot( x2, y2, '--', c='y', lw=10)\n",
    "\n",
    "    # differanse reell sirkelbue - posisjonsgjetting\n",
    "    if Gulstripeavstand > 0: \n",
    "        plt.plot( [x2[-1], 10], [y2[-1], 0], '--', c='r', lw=1)\n",
    "    plt.plot( [x[-1], 10], [y[-1], 0], 'r-', lw=1)\n",
    "    \n",
    "    # Kjørt avstand langs sirkelbue \n",
    "    dR = Radius * theta0 \n",
    "    dRVegnett = R2 * theta0  \n",
    "    \n",
    "    if Offset > 0: \n",
    "        print( 'Avstand påstått kameraposisjon - posisjon vegnett=', str( round( h+Offset, 2)) + 'm'  ) \n",
    "        print( 'Påstått distanse langs vegnettet =', str( round( dRVegnett, 2))+'m')\n",
    "    \n",
    "    # Målebilens kjøring\n",
    "    plt.plot( x, y,c='k', lw=3 )\n",
    "        \n",
    "        \n",
    "    # Legger på tekst \n",
    "    # plt.text( 0, -0.5, 'Målebil posisjon' ) # , ha='center')\n",
    "    plt.annotate( 'Målebil startposisjon', xy=(0,0), xytext=(0,-1), arrowprops=dict(facecolor='black', width=0.5 ))\n",
    "    \n",
    "    plt.annotate( 'Vegnett startposisjon', xy=(0,Offset), xytext=(0,Offset+1), \n",
    "                 arrowprops=dict(facecolor='black', width=0.5 ))\n",
    "    \n",
    "    \n",
    "    plt.text( 10.1, 0, 'Påstått kameraposisjon (10 m rett fram)')\n",
    "    plt.text( x[-1]+0.2, y[-1], 'Påstått kameraposisjon tilsvarer ' + str( round( dR, 2)) + 'm langs sirkelbue')\n",
    "    \n",
    "    xtext = np.mean( [10, x[-1]]  )\n",
    "    ytext = np.mean( [0, y[-1]]  )\n",
    "    plt.text( xtext+0.5, ytext, 'Avstand påstått - sirkelbue: ' + str( round( h, 2)) + 'm', color='r')\n",
    "    \n",
    "    if Gulstripeavstand > 0: \n",
    "        plt.text( x2[-1]+0.2, y2[-1], 'Vegnett påstått posisjon, ' + str( round( dRVegnett, 2)) + 'm fra start' )\n",
    "    \n",
    "    # Full sirkel, for morro skyld og debugging\n",
    "    if debug: \n",
    "        thetaFull = np.linspace( 0, 2*np.pi, 100)\n",
    "        x4 = Radius * np.cos( thetaFull )\n",
    "        y4 = Radius * np.sin( thetaFull ) + Radius\n",
    "        plt.plot( x4, y4 )\n",
    "\n",
    "    \n",
    "    # Rak linje 10m rett fram = gjetting på posisjon\n",
    "    plt.arrow( 0, 0, 10, 0, color='b', width=0.1, length_includes_head=True )        \n",
    "        \n",
    "        \n",
    "    plt.axes().set_aspect('equal', 'datalim')\n",
    "    # plt.box( False )\n",
    "    plt.axis( 'Off')\n",
    "    plt.show( )\n",
    "#     return theta"
   ]
  },
  {
   "cell_type": "code",
   "execution_count": 3,
   "metadata": {},
   "outputs": [
    {
     "data": {
      "application/vnd.jupyter.widget-view+json": {
       "model_id": "95652b10a7c7427bbc98c7012ce978d8",
       "version_major": 2,
       "version_minor": 0
      },
      "text/plain": [
       "interactive(children=(Dropdown(description='Svingradius', options=(10, 15, 20, 25, 30, 40, 50, 75, 100), value…"
      ]
     },
     "metadata": {},
     "output_type": "display_data"
    }
   ],
   "source": [
    "y = interactive( sirkelbue, Svingradius=[10, 15, 20, 25, 30, 40, 50, 75, 100], TilSide=[0, 0.5, 1, 1.5, 2, 3, 4, 5] )\n",
    "display( y) "
   ]
  }
 ],
 "metadata": {
  "kernelspec": {
   "display_name": "Python 3",
   "language": "python",
   "name": "python3"
  },
  "language_info": {
   "codemirror_mode": {
    "name": "ipython",
    "version": 3
   },
   "file_extension": ".py",
   "mimetype": "text/x-python",
   "name": "python",
   "nbconvert_exporter": "python",
   "pygments_lexer": "ipython3",
   "version": "3.7.6"
  }
 },
 "nbformat": 4,
 "nbformat_minor": 2
}
